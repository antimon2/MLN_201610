{
 "cells": [
  {
   "cell_type": "markdown",
   "metadata": {
    "slideshow": {
     "slide_type": "slide"
    }
   },
   "source": [
    "# 分類・検出の精度評価について<br><small>適合率と再現率を使いこなそう！</small>"
   ]
  },
  {
   "cell_type": "markdown",
   "metadata": {},
   "source": [
    "<p style=\"text-align:center;font-size:150%;line-height:150%\">2016/10/15 機械学習 名古屋 第7回勉強会<br>後藤 俊介 ( @antimon2 )</p>"
   ]
  },
  {
   "cell_type": "markdown",
   "metadata": {
    "slideshow": {
     "slide_type": "slide"
    }
   },
   "source": [
    "## 自己紹介"
   ]
  },
  {
   "cell_type": "markdown",
   "metadata": {},
   "source": [
    "+ 名前：後藤 俊介\n",
    "+ 所属：有限会社 来栖川電算\n",
    "+ 言語：Python, Julia, Ruby, Scala（勉強中）, …\n",
    "+ twitter: [@antimon2](https://twitter.com/antimon2 \"あんちもん2(@antimon2)さん | Twitter\")\n",
    "+ Facebook: [antimon2](https://www.facebook.com/antimon2 \"後藤 俊介\")\n",
    "+ GitHub: [antimon2](https://github.com/antimon2/ \"antimon2 (GOTOH Shunsuke)\")"
   ]
  },
  {
   "cell_type": "markdown",
   "metadata": {
    "slideshow": {
     "slide_type": "slide"
    }
   },
   "source": [
    "# 前回（分類精度の評価について）のあらすじ"
   ]
  },
  {
   "cell_type": "markdown",
   "metadata": {
    "slideshow": {
     "slide_type": "notes"
    }
   },
   "source": [
    "※前回「分類精度の評価について」というタイトルで少し発表しました。今日はその続きです。  \n",
    "※前回参加されていない方もいらっしゃるので、かいつまんで前回話したことをまず紹介します。"
   ]
  },
  {
   "cell_type": "markdown",
   "metadata": {
    "slideshow": {
     "slide_type": "subslide"
    }
   },
   "source": [
    "> ## シチュエーション\n",
    "> \n",
    "> + キノコが10個ある。\n",
    "> + いくつかは安全なキノコで、いくつかは毒キノコ。\n",
    "> + できるだけ安全なキノコだけを選びたい。\n",
    "> + かつ、できる限りたくさんのキノコを選びたい。"
   ]
  },
  {
   "cell_type": "markdown",
   "metadata": {
    "slideshow": {
     "slide_type": "notes"
    }
   },
   "source": [
    "※前回、こんな問題を考えました。"
   ]
  },
  {
   "cell_type": "markdown",
   "metadata": {
    "slideshow": {
     "slide_type": "subslide"
    }
   },
   "source": [
    "> ### 例えば。\n",
    "> \n",
    "> <table>\n",
    "<tr>\n",
    "<th style=\"background:#eee\">正解</th><td>○</td><td>○</td><td>○</td><td>×</td><td>×</td><td>○</td><td>×</td><td>×</td><td>×</td><td>×</td>\n",
    "</tr>\n",
    "<tr>\n",
    "<th style=\"background:#eee\">選択</th><td>○</td><td>○</td><td>○</td><td>○</td><td>○</td><td>×</td><td>×</td><td>×</td><td>×</td><td>×</td>\n",
    "</tr>\n",
    "</table>"
   ]
  },
  {
   "cell_type": "markdown",
   "metadata": {
    "slideshow": {
     "slide_type": "notes"
    }
   },
   "source": [
    "※安全なキノコは10個中4個、残りの6個は毒キノコ。  \n",
    "※5個のキノコを選んだけれど、そのうち3個が安全なキノコ、2個が毒キノコだった。"
   ]
  },
  {
   "cell_type": "markdown",
   "metadata": {
    "slideshow": {
     "slide_type": "subslide"
    }
   },
   "source": [
    "> ### 表にしてみた。\n",
    "> \n",
    "> <table>\n",
    "<tr>\n",
    "<th style=\"text-align:center;background:#eee\">&nbsp;</th><th style=\"text-align:center;background:#eee\">安全なキノコ</th><th style=\"text-align:center;background:#eee\">毒キノコ</th>\n",
    "</tr>\n",
    "<tr>\n",
    "<th style=\"text-align:center;background:#eee\">選んだキノコ</th><td style=\"text-align:center\">3</td><td style=\"text-align:center\">2</td>\n",
    "</tr>\n",
    "<tr>\n",
    "<th style=\"text-align:center;background:#eee\">選ばなかったキノコ</th><td style=\"text-align:center\">1</td><td style=\"text-align:center\">4</td>\n",
    "</tr>\n",
    "</table>"
   ]
  },
  {
   "cell_type": "markdown",
   "metadata": {
    "slideshow": {
     "slide_type": "notes"
    }
   },
   "source": [
    "※所謂クロス集計表ですね。"
   ]
  },
  {
   "cell_type": "markdown",
   "metadata": {
    "slideshow": {
     "slide_type": "subslide"
    }
   },
   "source": [
    "> ### 正解率 (Accuracy)\n",
    ">\n",
    "<table>\n",
    "<tr>\n",
    "<th style=\"text-align:center;background:#eee\">&nbsp;</th><th style=\"text-align:center;background:#eee\">安全なキノコ</th><th style=\"text-align:center;background:#eee\">毒キノコ</th>\n",
    "</tr>\n",
    "<tr>\n",
    "<th style=\"text-align:center;background:#eee\">選んだキノコ</th><td style=\"text-align:center;background:#ddf;color:#c00;font-weight:bold\">3</td><td style=\"text-align:center;background:#ddf\">2</td>\n",
    "</tr>\n",
    "<tr>\n",
    "<th style=\"text-align:center;background:#eee\">選ばなかったキノコ</th><td style=\"text-align:center;background:#ddf\">1</td><td style=\"text-align:center;background:#ddf;color:#c00;font-weight:bold\">4</td>\n",
    "</tr>\n",
    "</table>\n",
    ">\n",
    "$$\n",
    "{\\rm Accuracy} = \\frac{3 + 4}{3 + 2 + 1 + 4} = 0.7\n",
    "$$"
   ]
  },
  {
   "cell_type": "markdown",
   "metadata": {
    "slideshow": {
     "slide_type": "notes"
    }
   },
   "source": [
    "+ 全キノコのうちの、正解だったキノコの割合。\n",
    "    + キノコ10個のうち、7個が正解 → 正解率は 0.7（70%）\n",
    "+ 「どれだけ『正しく判別』できたか」という、一番わかりやすい指標。一番よく使われる。"
   ]
  },
  {
   "cell_type": "markdown",
   "metadata": {
    "slideshow": {
     "slide_type": "subslide"
    }
   },
   "source": [
    "> ### 適合率 (Precision)\n",
    ">\n",
    "<table>\n",
    "<tr>\n",
    "<th style=\"text-align:center;background:#eee\">&nbsp;</th><th style=\"text-align:center;background:#eee\">安全なキノコ</th><th style=\"text-align:center;background:#eee\">毒キノコ</th>\n",
    "</tr>\n",
    "<tr>\n",
    "<th style=\"text-align:center;background:#eef\">選んだキノコ</th><td style=\"text-align:center;background:#ddf;color:#c00;font-weight:bold\">3</td><td style=\"text-align:center;background:#ddf\">2</td>\n",
    "</tr>\n",
    "<tr>\n",
    "<th style=\"text-align:center;background:#eee\">選ばなかったキノコ</th><td style=\"text-align:center\">1</td><td style=\"text-align:center\">4</td>\n",
    "</tr>\n",
    "</table>\n",
    ">\n",
    "$$\n",
    "{\\rm Precision} = \\frac{3}{3 + 2} = 0.6\n",
    "$$"
   ]
  },
  {
   "cell_type": "markdown",
   "metadata": {
    "slideshow": {
     "slide_type": "notes"
    }
   },
   "source": [
    "+ 選んだキノコのうちの、正解だったキノコ（＝安全なキノコ）の割合。\n",
    "+ 「どれだけ『見る目』があるか」を測る指標。\n",
    "    + 適合率が高い ＝ 選んだキノコはほとんど安全なキノコ\n",
    "    + 適合率が低い ＝ 選んだキノコはかなり毒キノコ"
   ]
  },
  {
   "cell_type": "markdown",
   "metadata": {
    "slideshow": {
     "slide_type": "notes"
    }
   },
   "source": [
    "※ 正解率が 100% ならば、適合率は 100%。  \n",
    "※ 適合率のことを単に「精度」とも言う（英語では同じく Precision）。  \n",
    "※ TensorFlow の公式チュートリアルのサンプルでは、よく \"Precision\"（精度）という名称で、こっちじゃなくて実際には Accuracy になってたりするので注意！"
   ]
  },
  {
   "cell_type": "markdown",
   "metadata": {
    "slideshow": {
     "slide_type": "subslide"
    }
   },
   "source": [
    "> ### 再現率 (Recall)\n",
    ">\n",
    "<table>\n",
    "<tr>\n",
    "<th style=\"text-align:center;background:#eee\">&nbsp;</th><th style=\"text-align:center;background:#eef\">安全なキノコ</th><th style=\"text-align:center;background:#eee\">毒キノコ</th>\n",
    "</tr>\n",
    "<tr>\n",
    "<th style=\"text-align:center;background:#eee\">選んだキノコ</th><td style=\"text-align:center;background:#ddf;color:#c00;font-weight:bold\">3</td><td style=\"text-align:center\">2</td>\n",
    "</tr>\n",
    "<tr>\n",
    "<th style=\"text-align:center;background:#eee\">選ばなかったキノコ</th><td style=\"text-align:center;background:#ddf\">1</td><td style=\"text-align:center\">4</td>\n",
    "</tr>\n",
    "</table>\n",
    ">\n",
    "$$\n",
    "{\\rm Recall} = \\frac{3}{3 + 1} = 0.75\n",
    "$$"
   ]
  },
  {
   "cell_type": "markdown",
   "metadata": {
    "slideshow": {
     "slide_type": "notes"
    }
   },
   "source": [
    "+ 安全なキノコのうちの、正解だったキノコ（＝選んだキノコ）の割合。\n",
    "+ 「どれだけ『取りこぼしがない』か」を測る指標。\n",
    "    + 再現率が高い ＝ 安全なキノコをほぼ全部選び出している\n",
    "    + 再現率が低い ＝ 安全なキノコをかなり取りこぼしている"
   ]
  },
  {
   "cell_type": "markdown",
   "metadata": {
    "slideshow": {
     "slide_type": "notes"
    }
   },
   "source": [
    "※ 正解率が 100% ならば、再現率は 100%。  \n",
    "※ 再現率は「感度 (Sensitivity)」とも言う。  \n",
    "※ 適合率 と 再現率 は **トレードオフ** の関係。"
   ]
  },
  {
   "cell_type": "markdown",
   "metadata": {
    "slideshow": {
     "slide_type": "subslide"
    }
   },
   "source": [
    "> ### F-値 (F1-Score)\n",
    ">\n",
    "$$\n",
    "\\begin{eqnarray}\n",
    "{\\rm F}_1 &=& \\frac{2}{\\frac{1}{\\rm Precision} + \\frac{1}{\\rm Recall}}\\\\\n",
    "    &=& \\frac{2 \\times {\\rm Precision} \\times {\\rm Recall}}{{\\rm Precision} + {\\rm Recall}}\\\\\n",
    "    &=& 0.66666\\dots\n",
    "\\end{eqnarray}\n",
    "$$"
   ]
  },
  {
   "cell_type": "markdown",
   "metadata": {
    "slideshow": {
     "slide_type": "notes"
    }
   },
   "source": [
    "+ 適合率 と 再現率 の2つのバランスを見る指標。\n",
    "+ F-値 ＝ 適合率 と 再現率 の **調和平均**\n",
    "    + F-値が高い ＝ 適合率も再現率もそれなりに高くてバランスが取れている\n",
    "    + F-値が低い ＝ 適合率・再現率の少なくともどちらか（あるいは両方）が低い"
   ]
  },
  {
   "cell_type": "markdown",
   "metadata": {
    "slideshow": {
     "slide_type": "notes"
    }
   },
   "source": [
    "※ 調和平均：逆数の平均（相加平均）の逆数。  \n",
    "※ 正解率が 100% ならば、F-値は 100%。  \n",
    "※ このF-値 (F1-Score) は、recall に $\\beta^2$ の重みを乗せた重み付き調和平均で定義される Fβ-Score の特殊なもの（β=1）。"
   ]
  },
  {
   "cell_type": "markdown",
   "metadata": {
    "slideshow": {
     "slide_type": "notes"
    }
   },
   "source": [
    "**Q**: どの評価指標で評価すれば良い？"
   ]
  },
  {
   "cell_type": "markdown",
   "metadata": {
    "slideshow": {
     "slide_type": "subslide"
    }
   },
   "source": [
    "> ### 混同行列 (Confusion Matrix)\n",
    ">\n",
    "<table>\n",
    "<tr>\n",
    "<th style=\"text-align:center;background:#eee\">&nbsp;</th><th style=\"text-align:center;background:#eee\">安全なキノコ</th><th style=\"text-align:center;background:#eee\">毒キノコ</th>\n",
    "</tr>\n",
    "<tr>\n",
    "<th style=\"text-align:center;background:#eee\">選んだキノコ</th><td style=\"text-align:center\">3</td><td style=\"text-align:center\">2</td>\n",
    "</tr>\n",
    "<tr>\n",
    "<th style=\"text-align:center;background:#eee\">選ばなかったキノコ</th><td style=\"text-align:center\">1</td><td style=\"text-align:center\">4</td>\n",
    "</tr>\n",
    "</table>"
   ]
  },
  {
   "cell_type": "markdown",
   "metadata": {
    "slideshow": {
     "slide_type": "notes"
    }
   },
   "source": [
    "※ データの分類で「うまくできた」「できなかった」を数え上げたクロス集計表のこと。"
   ]
  },
  {
   "cell_type": "markdown",
   "metadata": {
    "slideshow": {
     "slide_type": "subslide"
    }
   },
   "source": [
    "> ### True Positive\n",
    ">\n",
    "<table>\n",
    "<tr>\n",
    "<th style=\"text-align:center;background:#eee\">&nbsp;</th><th style=\"text-align:center;background:#dde\">安全なキノコ</th><th style=\"text-align:center;background:#eee\">毒キノコ</th>\n",
    "</tr>\n",
    "<tr>\n",
    "<th style=\"text-align:center;background:#cce\">選んだキノコ</th><td style=\"text-align:center;background:#bbe\">3</td><td style=\"text-align:center\">2</td>\n",
    "</tr>\n",
    "<tr>\n",
    "<th style=\"text-align:center;background:#eee\">選ばなかったキノコ</th><td style=\"text-align:center\">1</td><td style=\"text-align:center\">4</td>\n",
    "</tr>\n",
    "</table>\n",
    ">\n",
    "$$\n",
    "{\\rm TP} = 3\n",
    "$$\n",
    ">\n",
    "+ 正しく選ばれた事象の数（＝安全なキノコを選んだ個数）"
   ]
  },
  {
   "cell_type": "markdown",
   "metadata": {
    "slideshow": {
     "slide_type": "notes"
    }
   },
   "source": [
    "※ 選択（＝Positive）が正しかった（＝True）、ということ。"
   ]
  },
  {
   "cell_type": "markdown",
   "metadata": {
    "slideshow": {
     "slide_type": "subslide"
    }
   },
   "source": [
    "> ### False Positive\n",
    ">\n",
    "<table>\n",
    "<tr>\n",
    "<th style=\"text-align:center;background:#eee\">&nbsp;</th><th style=\"text-align:center;background:#eee\">安全なキノコ</th><th style=\"text-align:center;background:#edd\">毒キノコ</th>\n",
    "</tr>\n",
    "<tr>\n",
    "<th style=\"text-align:center;background:#cce\">選んだキノコ</th><td style=\"text-align:center\">3</td><td style=\"text-align:center;background:#cbd\">2</td>\n",
    "</tr>\n",
    "<tr>\n",
    "<th style=\"text-align:center;background:#eee\">選ばなかったキノコ</th><td style=\"text-align:center\">1</td><td style=\"text-align:center\">4</td>\n",
    "</tr>\n",
    "</table>\n",
    ">\n",
    "$$\n",
    "{\\rm FP} = 2\n",
    "$$\n",
    ">\n",
    "+ 間違って選ばれた事象の数（＝毒キノコを選んだ個数）"
   ]
  },
  {
   "cell_type": "markdown",
   "metadata": {
    "slideshow": {
     "slide_type": "notes"
    }
   },
   "source": [
    "※ 選択（＝Positive）が間違っていた（＝False）、ということ。"
   ]
  },
  {
   "cell_type": "markdown",
   "metadata": {
    "slideshow": {
     "slide_type": "subslide"
    }
   },
   "source": [
    "> ### False Negative\n",
    ">\n",
    "<table>\n",
    "<tr>\n",
    "<th style=\"text-align:center;background:#eee\">&nbsp;</th><th style=\"text-align:center;background:#dde\">安全なキノコ</th><th style=\"text-align:center;background:#eee\">毒キノコ</th>\n",
    "</tr>\n",
    "<tr>\n",
    "<th style=\"text-align:center;background:#eee\">選んだキノコ</th><td style=\"text-align:center\">3</td><td style=\"text-align:center\">2</td>\n",
    "</tr>\n",
    "<tr>\n",
    "<th style=\"text-align:center;background:#ecc\">選ばなかったキノコ</th><td style=\"text-align:center;background:#dbc\">1</td><td style=\"text-align:center\">4</td>\n",
    "</tr>\n",
    "</table>\n",
    ">\n",
    "$$\n",
    "{\\rm FN} = 1\n",
    "$$\n",
    ">\n",
    "+ 間違って選ばれなかった事象の数（＝選ばなかったうちの安全なキノコの個数）"
   ]
  },
  {
   "cell_type": "markdown",
   "metadata": {
    "slideshow": {
     "slide_type": "notes"
    }
   },
   "source": [
    "※ 選択しなかったこと（＝Negative）が間違っていた（＝False）、ということ。"
   ]
  },
  {
   "cell_type": "markdown",
   "metadata": {
    "slideshow": {
     "slide_type": "subslide"
    }
   },
   "source": [
    "> ### True Negative\n",
    ">\n",
    "<table>\n",
    "<tr>\n",
    "<th style=\"text-align:center;background:#eee\">&nbsp;</th><th style=\"text-align:center;background:#eee\">安全なキノコ</th><th style=\"text-align:center;background:#edd\">毒キノコ</th>\n",
    "</tr>\n",
    "<tr>\n",
    "<th style=\"text-align:center;background:#eee\">選んだキノコ</th><td style=\"text-align:center\">3</td><td style=\"text-align:center\">2</td>\n",
    "</tr>\n",
    "<tr>\n",
    "<th style=\"text-align:center;background:#ecc\">選ばなかったキノコ</th><td style=\"text-align:center\">1</td><td style=\"text-align:center;background:#ebb\">4</td>\n",
    "</tr>\n",
    "</table>\n",
    ">\n",
    "$$\n",
    "{\\rm TN} = 4\n",
    "$$\n",
    ">\n",
    "+ 正しく選ばれなかった事象の数（＝選ばなかったうちの毒キノコの個数）"
   ]
  },
  {
   "cell_type": "markdown",
   "metadata": {
    "slideshow": {
     "slide_type": "notes"
    }
   },
   "source": [
    "※ 選択しなかったこと（＝Negative）が正しかった（＝True）、ということ。"
   ]
  },
  {
   "cell_type": "markdown",
   "metadata": {
    "slideshow": {
     "slide_type": "subslide"
    }
   },
   "source": [
    "> ### 混同行列 (Confusion Matrix) 改\n",
    ">\n",
    "<table>\n",
    "<tr>\n",
    "<th style=\"text-align:center;background:#eee\">&nbsp;</th><th style=\"text-align:center;background:#eee\">+</th><th style=\"text-align:center;background:#eee\">-</th>\n",
    "</tr>\n",
    "<tr>\n",
    "<th style=\"text-align:center;background:#eee\">(+)</th><td style=\"text-align:center\">TP</td><td style=\"text-align:center\">FP</td>\n",
    "</tr>\n",
    "<tr>\n",
    "<th style=\"text-align:center;background:#eee\">(-)</th><td style=\"text-align:center\">FN</td><td style=\"text-align:center\">TN</td>\n",
    "</tr>\n",
    "</table>"
   ]
  },
  {
   "cell_type": "markdown",
   "metadata": {
    "slideshow": {
     "slide_type": "notes"
    }
   },
   "source": [
    "※ `TP`, `FP`, `FN`, `TN` はそれぞれ、\"True Positive\", \"False Positive\", \"False Negative\", \"True Negative\" の頭文字。"
   ]
  },
  {
   "cell_type": "markdown",
   "metadata": {
    "slideshow": {
     "slide_type": "subslide"
    }
   },
   "source": [
    "> ### 評価指標の再定義\n",
    ">\n",
    "$$\n",
    "{\\rm Accuracy} = \\frac{{\\rm TP} + {\\rm TN}}{{\\rm TP} + {\\rm FP} + {\\rm FN} + {\\rm TN}}\n",
    "$$\n",
    ">\n",
    "$$\n",
    "{\\rm Precision} = \\frac{\\rm TP}{{\\rm TP} + {\\rm FP}}\n",
    "$$\n",
    ">\n",
    "$$\n",
    "{\\rm Recall} = \\frac{\\rm TP}{{\\rm TP} + {\\rm FN}}\n",
    "$$\n",
    ">\n",
    "$$\n",
    "{\\rm F}_1 = \\frac{2{\\rm TP}}{2{\\rm TP} + {\\rm FP} + {\\rm FN}}\n",
    "$$"
   ]
  },
  {
   "cell_type": "markdown",
   "metadata": {
    "slideshow": {
     "slide_type": "notes"
    }
   },
   "source": [
    "※ F-値は実際には元の定義のように precison と recall から計算することが多い。"
   ]
  },
  {
   "cell_type": "markdown",
   "metadata": {
    "slideshow": {
     "slide_type": "skip"
    }
   },
   "source": [
    "以上を踏まえて。"
   ]
  },
  {
   "cell_type": "markdown",
   "metadata": {
    "slideshow": {
     "slide_type": "skip"
    }
   },
   "source": [
    "# 多クラス分類の評価指標"
   ]
  },
  {
   "cell_type": "markdown",
   "metadata": {
    "slideshow": {
     "slide_type": "slide"
    }
   },
   "source": [
    "# シチュエーションその2"
   ]
  },
  {
   "cell_type": "markdown",
   "metadata": {
    "slideshow": {
     "slide_type": "notes"
    }
   },
   "source": [
    "※いよいよここからが、今日の本題です。"
   ]
  },
  {
   "cell_type": "markdown",
   "metadata": {
    "slideshow": {
     "slide_type": "fragment"
    }
   },
   "source": [
    "+ 金メダル・銀メダル・銅メダル が合計 30個 ある。デザインは同じ。\n",
    "+ 誰かがいたずらで全部真っ赤なペンキを塗ってしまった。\n",
    "+ どれが金メダルか・銀メダルか・銅メダルか、仕分けしたい。"
   ]
  },
  {
   "cell_type": "markdown",
   "metadata": {
    "slideshow": {
     "slide_type": "slide"
    }
   },
   "source": [
    "## 分類結果（＝混同行列）"
   ]
  },
  {
   "cell_type": "markdown",
   "metadata": {
    "slideshow": {
     "slide_type": "fragment"
    }
   },
   "source": [
    "<table>\n",
    "<tr>\n",
    "<th style=\"text-align:center;background:#eee\">&nbsp;</th><th style=\"text-align:center;background:#eee\">金メダル</th><th style=\"text-align:center;background:#eee\">銀メダル</th><th style=\"text-align:center;background:#eee\">銅メダル</th>\n",
    "</tr>\n",
    "<tr>\n",
    "<th style=\"text-align:center;background:#eee\">たぶん金メダル</th><td style=\"text-align:center\">7</td><td style=\"text-align:center\">0</td><td style=\"text-align:center\">3</td>\n",
    "</tr>\n",
    "<tr>\n",
    "<th style=\"text-align:center;background:#eee\">たぶん銀メダル</th><td style=\"text-align:center\">1</td><td style=\"text-align:center\">8</td><td style=\"text-align:center\">1</td>\n",
    "</tr>\n",
    "<tr>\n",
    "<th style=\"text-align:center;background:#eee\">たぶん銅メダル</th><td style=\"text-align:center\">0</td><td style=\"text-align:center\">1</td><td style=\"text-align:center\">9</td>\n",
    "</tr>\n",
    "</table>"
   ]
  },
  {
   "cell_type": "markdown",
   "metadata": {
    "slideshow": {
     "slide_type": "notes"
    }
   },
   "source": [
    "※選んだ人は、「たぶん金銀銅どのメダルも10個ずつだろう」と（勝手に）予想して仕分け（分類）した。  \n",
    "※実際には、金メダル＝8個、銀メダル＝9個、銅メダル＝13個だった。  \n",
    "※その内訳が、この表。"
   ]
  },
  {
   "cell_type": "markdown",
   "metadata": {
    "slideshow": {
     "slide_type": "slide"
    }
   },
   "source": [
    "## TP, FP, FN, TN"
   ]
  },
  {
   "cell_type": "markdown",
   "metadata": {
    "slideshow": {
     "slide_type": "fragment"
    }
   },
   "source": [
    "<table>\n",
    "<tr>\n",
    "<th style=\"text-align:center;background:#eee\">&nbsp;</th><th style=\"text-align:center;background:#dde\">+</th><th style=\"text-align:center;background:#edd\">-</th>\n",
    "</tr>\n",
    "<tr>\n",
    "<th style=\"text-align:center;background:#cce\">(+)</th><td style=\"text-align:center;background:#bbe\">TP</td><td style=\"text-align:center;background:#cbd\">FP</td>\n",
    "</tr>\n",
    "<tr>\n",
    "<th style=\"text-align:center;background:#ecc\">(-)</th><td style=\"text-align:center;background:#dbc\">FN</td><td style=\"text-align:center;background:#ebb\">TN</td>\n",
    "</tr>\n",
    "</table>"
   ]
  },
  {
   "cell_type": "markdown",
   "metadata": {
    "slideshow": {
     "slide_type": "notes"
    }
   },
   "source": [
    "※TP, FP, FN, TN って、こんな感じの表でしたよね？  \n",
    "※どのように考えれば良いのでしょう？"
   ]
  },
  {
   "cell_type": "markdown",
   "metadata": {
    "slideshow": {
     "slide_type": "fragment"
    }
   },
   "source": [
    "<p style=\"text-align:center\">？</p>"
   ]
  },
  {
   "cell_type": "markdown",
   "metadata": {
    "slideshow": {
     "slide_type": "subslide"
    }
   },
   "source": [
    "### まず「金メダル」に注目してみる。"
   ]
  },
  {
   "cell_type": "markdown",
   "metadata": {
    "slideshow": {
     "slide_type": "-"
    }
   },
   "source": [
    "<table>\n",
    "<tr>\n",
    "<th style=\"text-align:center;background:#eee\">&nbsp;</th><th style=\"text-align:center;background:#dde\">金メダル</th><th style=\"text-align:center;background:#edd\">銀メダル</th><th style=\"text-align:center;background:#edd\">銅メダル</th>\n",
    "</tr>\n",
    "<tr>\n",
    "<th style=\"text-align:center;background:#cce\">たぶん金メダル</th><td style=\"text-align:center;background:#bbe\">7</td><td style=\"text-align:center;background:#cbd\">0</td><td style=\"text-align:center;background:#cbd\">3</td>\n",
    "</tr>\n",
    "<tr>\n",
    "<th style=\"text-align:center;background:#ecc\">たぶん銀メダル</th><td style=\"text-align:center;background:#dbc\">1</td><td style=\"text-align:center;background:#ebb\">8</td><td style=\"text-align:center;background:#ebb\">1</td>\n",
    "</tr>\n",
    "<tr>\n",
    "<th style=\"text-align:center;background:#ecc\">たぶん銅メダル</th><td style=\"text-align:center;background:#dbc\">0</td><td style=\"text-align:center;background:#ebb\">1</td><td style=\"text-align:center;background:#ebb\">9</td>\n",
    "</tr>\n",
    "</table>"
   ]
  },
  {
   "cell_type": "markdown",
   "metadata": {
    "slideshow": {
     "slide_type": "subslide"
    }
   },
   "source": [
    "### 「金メダルじゃない」をまとめる。"
   ]
  },
  {
   "cell_type": "markdown",
   "metadata": {
    "slideshow": {
     "slide_type": "-"
    }
   },
   "source": [
    "<table>\n",
    "<tr>\n",
    "<th style=\"text-align:center;background:#eee\">&nbsp;</th><th style=\"text-align:center;background:#dde\">金メダル</th><th style=\"text-align:center;background:#edd\">金メダルじゃない</th>\n",
    "</tr>\n",
    "<tr>\n",
    "<th style=\"text-align:center;background:#cce\">たぶん金メダル</th><td style=\"text-align:center;background:#bbe\">7</td><td style=\"text-align:center;background:#cbd\">3</td>\n",
    "</tr>\n",
    "<tr>\n",
    "<th style=\"text-align:center;background:#ecc\">たぶん金メダルじゃない</th><td style=\"text-align:center;background:#dbc\">1</td><td style=\"text-align:center;background:#ebb\">19</td>\n",
    "</tr>\n",
    "</table>"
   ]
  },
  {
   "cell_type": "markdown",
   "metadata": {
    "slideshow": {
     "slide_type": "subslide"
    }
   },
   "source": [
    "### 「金メダルかどうか」で TP〜TN が計算できる。"
   ]
  },
  {
   "cell_type": "markdown",
   "metadata": {
    "slideshow": {
     "slide_type": "-"
    }
   },
   "source": [
    "$$\n",
    "\\begin{eqnarray}\n",
    "{\\rm TP}_G &=& 7\\\\\n",
    "{\\rm FP}_G &=& 3\\\\\n",
    "{\\rm FN}_G &=& 1\\\\\n",
    "{\\rm TN}_G &=& 19\n",
    "\\end{eqnarray}\n",
    "$$"
   ]
  },
  {
   "cell_type": "markdown",
   "metadata": {
    "slideshow": {
     "slide_type": "notes"
    }
   },
   "source": [
    "※ここで ○○<sub>G</sub> の \"G\" は、金メダル（＝**G**old）を表す。  \n",
    "　○○<sub>S</sub>（銀メダル＝**S**ilver）、○○<sub>B</sub>（銅メダル＝**B**ronze）も同様に。"
   ]
  },
  {
   "cell_type": "markdown",
   "metadata": {
    "slideshow": {
     "slide_type": "subslide"
    }
   },
   "source": [
    "### 他のメダルでも同様に。"
   ]
  },
  {
   "cell_type": "markdown",
   "metadata": {
    "slideshow": {
     "slide_type": "fragment"
    }
   },
   "source": [
    "<table>\n",
    "<tr>\n",
    "<th style=\"text-align:center;background:#eee\">&nbsp;</th><th style=\"text-align:center;background:#eee\">TP</th><th style=\"text-align:center;background:#eee\">FP</th><th style=\"text-align:center;background:#eee\">FN</th><th style=\"text-align:center;background:#eee\">TN</th>\n",
    "</tr>\n",
    "<tr>\n",
    "<th style=\"text-align:center;background:#eee\">金メダル</th><td style=\"text-align:center\">7</td><td style=\"text-align:center\">3</td><td style=\"text-align:center\">1</td><td style=\"text-align:center\">19</td>\n",
    "</tr>\n",
    "<tr>\n",
    "<th style=\"text-align:center;background:#eee\">銀メダル</th><td style=\"text-align:center\">8</td><td style=\"text-align:center\">2</td><td style=\"text-align:center\">1</td><td style=\"text-align:center\">19</td>\n",
    "</tr>\n",
    "<tr>\n",
    "<th style=\"text-align:center;background:#eee\">銅メダル</th><td style=\"text-align:center\">9</td><td style=\"text-align:center\">1</td><td style=\"text-align:center\">4</td><td style=\"text-align:center\">16</td>\n",
    "</tr>\n",
    "</table>"
   ]
  },
  {
   "cell_type": "markdown",
   "metadata": {
    "slideshow": {
     "slide_type": "notes"
    }
   },
   "source": [
    "※ 各クラス（この場合「金メダル」「銀メダル」「銅メダル」それぞれ）の視点で TP/FP/FN/TN を計算する！  \n",
    "　 これを後で利用する！"
   ]
  },
  {
   "cell_type": "markdown",
   "metadata": {
    "slideshow": {
     "slide_type": "slide"
    }
   },
   "source": [
    "## 正解率（全正解率）"
   ]
  },
  {
   "cell_type": "markdown",
   "metadata": {
    "slideshow": {
     "slide_type": "subslide"
    }
   },
   "source": [
    "<table>\n",
    "<tr>\n",
    "<th style=\"text-align:center;background:#eee\">&nbsp;</th><th style=\"text-align:center;background:#eee\">金メダル</th><th style=\"text-align:center;background:#eee\">銀メダル</th><th style=\"text-align:center;background:#eee\">銅メダル</th>\n",
    "</tr>\n",
    "<tr>\n",
    "<th style=\"text-align:center;background:#eee\">たぶん金メダル</th><td style=\"text-align:center;background:#ddf;color:#c00;font-weight:bold\">7</td><td style=\"text-align:center;background:#ddf\">0</td><td style=\"text-align:center;background:#ddf\">3</td>\n",
    "</tr>\n",
    "<tr>\n",
    "<th style=\"text-align:center;background:#eee\">たぶん銀メダル</th><td style=\"text-align:center;background:#ddf\">1</td><td style=\"text-align:center;background:#ddf;color:#c00;font-weight:bold\">8</td><td style=\"text-align:center;background:#ddf\">1</td>\n",
    "</tr>\n",
    "<tr>\n",
    "<th style=\"text-align:center;background:#eee\">たぶん銅メダル</th><td style=\"text-align:center;background:#ddf\">0</td><td style=\"text-align:center;background:#ddf\">1</td><td style=\"text-align:center;background:#ddf;color:#c00;font-weight:bold\">9</td>\n",
    "</tr>\n",
    "</table>"
   ]
  },
  {
   "cell_type": "markdown",
   "metadata": {},
   "source": [
    "$$\n",
    "\\begin{eqnarray}\n",
    "{\\rm Accuracy} &=& \\frac{\\sum_i {\\rm TP}_i}{{\\rm TP}_G + {\\rm FP}_G + {\\rm FN}_G + {\\rm TN}_G}\\\\\n",
    "&=& 0.8\n",
    "\\end{eqnarray}\n",
    "$$"
   ]
  },
  {
   "cell_type": "markdown",
   "metadata": {},
   "source": [
    "+ 全メダルのうちの、正解だったメダルの割合。\n",
    "+ （混同行列上は）2値分類のときと同じ考え方。最もシンプルな指標。"
   ]
  },
  {
   "cell_type": "markdown",
   "metadata": {
    "slideshow": {
     "slide_type": "slide"
    }
   },
   "source": [
    "## 平均正解率"
   ]
  },
  {
   "cell_type": "markdown",
   "metadata": {
    "slideshow": {
     "slide_type": "subslide"
    }
   },
   "source": [
    "<table>\n",
    "<tr>\n",
    "<th style=\"text-align:center;background:#eee\">&nbsp;</th><th style=\"text-align:center;background:#eee;color:#c00\">TP</th><th style=\"text-align:center;background:#eee\">FP</th><th style=\"text-align:center;background:#eee\">FN</th><th style=\"text-align:center;background:#eee;color:#c00\">TN</th>\n",
    "</tr>\n",
    "<tr style=\"background:#e2e2ff\">\n",
    "<th style=\"text-align:center;background:#eee\">金メダル</th><td style=\"text-align:center;color:#c00\">7</td><td style=\"text-align:center\">3</td><td style=\"text-align:center\">1</td><td style=\"text-align:center;color:#c00\">19</td>\n",
    "</tr>\n",
    "<tr style=\"background:#d9d9ff\">\n",
    "<th style=\"text-align:center;background:#eee\">銀メダル</th><td style=\"text-align:center;color:#c00\">8</td><td style=\"text-align:center\">2</td><td style=\"text-align:center\">1</td><td style=\"text-align:center;color:#c00\">19</td>\n",
    "</tr>\n",
    "<tr style=\"background:#d0d0ff\">\n",
    "<th style=\"text-align:center;background:#eee\">銅メダル</th><td style=\"text-align:center;color:#c00\">9</td><td style=\"text-align:center\">1</td><td style=\"text-align:center\">4</td><td style=\"text-align:center;color:#c00\">16</td>\n",
    "</tr>\n",
    "</table>"
   ]
  },
  {
   "cell_type": "markdown",
   "metadata": {},
   "source": [
    "$$\n",
    "\\begin{eqnarray}\n",
    "{\\rm AvgAccuracy} &=& \\frac{\\sum_i \\frac{{\\rm TP}_i + {\\rm TN}_i}{{\\rm TP}_i + {\\rm FP}_i + {\\rm FN}_i + {\\rm TN}_i}}{l}\\\\\n",
    "&=& 0.866666\\dots\n",
    "\\end{eqnarray}\n",
    "$$"
   ]
  },
  {
   "cell_type": "markdown",
   "metadata": {},
   "source": [
    "+ 各メダルごとに正解率を出して、その平均（相加平均）を取る。\n",
    "+ 「どのクラス（この場合メダル）もそれなりによく正解しているか」が分かる指標。"
   ]
  },
  {
   "cell_type": "markdown",
   "metadata": {
    "slideshow": {
     "slide_type": "slide"
    }
   },
   "source": [
    "## 平均適合率（マクロ適合率）"
   ]
  },
  {
   "cell_type": "markdown",
   "metadata": {
    "slideshow": {
     "slide_type": "subslide"
    }
   },
   "source": [
    "<table>\n",
    "<tr>\n",
    "<th style=\"text-align:center;background:#eee\">&nbsp;</th><th style=\"text-align:center;background:#eef;color:#c00\">TP</th><th style=\"text-align:center;background:#eef\">FP</th><th style=\"text-align:center;background:#eee\">FN</th><th style=\"text-align:center;background:#eee\">TN</th>\n",
    "</tr>\n",
    "<tr>\n",
    "<th style=\"text-align:center;background:#eee\">金メダル</th><td style=\"text-align:center;background:#e2e2ff;color:#c00\">7</td><td style=\"text-align:center;background:#e2e2ff\">3</td><td style=\"text-align:center\">1</td><td style=\"text-align:center\">19</td>\n",
    "</tr>\n",
    "<tr>\n",
    "<th style=\"text-align:center;background:#eee\">銀メダル</th><td style=\"text-align:center;background:#d9d9ff;color:#c00\">8</td><td style=\"text-align:center;background:#d9d9ff\">2</td><td style=\"text-align:center\">1</td><td style=\"text-align:center\">19</td>\n",
    "</tr>\n",
    "<tr>\n",
    "<th style=\"text-align:center;background:#eee\">銅メダル</th><td style=\"text-align:center;background:#d0d0ff;color:#c00\">9</td><td style=\"text-align:center;background:#d0d0ff\">1</td><td style=\"text-align:center\">4</td><td style=\"text-align:center\">16</td>\n",
    "</tr>\n",
    "</table>"
   ]
  },
  {
   "cell_type": "markdown",
   "metadata": {},
   "source": [
    "$$\n",
    "\\begin{eqnarray}\n",
    "{\\rm Precision_M} &=& \\frac{\\sum_i \\frac{{\\rm TP}_i}{{\\rm TP}_i + {\\rm FP}_i}}{l}\\\\\n",
    "&=& 0.8\n",
    "\\end{eqnarray}\n",
    "$$"
   ]
  },
  {
   "cell_type": "markdown",
   "metadata": {},
   "source": [
    "+ 各メダルごとに適合率を出して、その平均（相加平均）を取る。\n",
    "+ 「どのクラス（この場合メダル）もそれなりによく『見る目』があるか」が分かる指標。"
   ]
  },
  {
   "cell_type": "markdown",
   "metadata": {
    "slideshow": {
     "slide_type": "slide"
    }
   },
   "source": [
    "## 平均再現率（マクロ再現率）"
   ]
  },
  {
   "cell_type": "markdown",
   "metadata": {
    "slideshow": {
     "slide_type": "subslide"
    }
   },
   "source": [
    "<table>\n",
    "<tr>\n",
    "<th style=\"text-align:center;background:#eee\">&nbsp;</th><th style=\"text-align:center;background:#eef;color:#c00\">TP</th><th style=\"text-align:center;background:#eee\">FP</th><th style=\"text-align:center;background:#eef\">FN</th><th style=\"text-align:center;background:#eee\">TN</th>\n",
    "</tr>\n",
    "<tr>\n",
    "<th style=\"text-align:center;background:#eee\">金メダル</th><td style=\"text-align:center;background:#e2e2ff;color:#c00\">7</td><td style=\"text-align:center\">3</td><td style=\"text-align:center;background:#e2e2ff\">1</td><td style=\"text-align:center\">19</td>\n",
    "</tr>\n",
    "<tr>\n",
    "<th style=\"text-align:center;background:#eee\">銀メダル</th><td style=\"text-align:center;background:#d9d9ff;color:#c00\">8</td><td style=\"text-align:center\">2</td><td style=\"text-align:center;background:#d9d9ff\">1</td><td style=\"text-align:center\">19</td>\n",
    "</tr>\n",
    "<tr>\n",
    "<th style=\"text-align:center;background:#eee\">銅メダル</th><td style=\"text-align:center;background:#d0d0ff;color:#c00\">9</td><td style=\"text-align:center\">1</td><td style=\"text-align:center;background:#d0d0ff\">4</td><td style=\"text-align:center\">16</td>\n",
    "</tr>\n",
    "</table>"
   ]
  },
  {
   "cell_type": "markdown",
   "metadata": {},
   "source": [
    "$$\n",
    "\\begin{eqnarray}\n",
    "{\\rm Recall_M} &=& \\frac{\\sum_i \\frac{{\\rm TP}_i}{{\\rm TP}_i + {\\rm FN}_i}}{l}\\\\\n",
    "&=& 0.818732\\dots\n",
    "\\end{eqnarray}\n",
    "$$"
   ]
  },
  {
   "cell_type": "markdown",
   "metadata": {},
   "source": [
    "+ 各メダルごとに再現率を出して、その平均（相加平均）を取る。\n",
    "+ 「どのクラス（この場合メダル）もそれなりによく『取りこぼしがない』か」が分かる指標。"
   ]
  },
  {
   "cell_type": "markdown",
   "metadata": {
    "slideshow": {
     "slide_type": "slide"
    }
   },
   "source": [
    "## 平均F-値（マクロF-値）"
   ]
  },
  {
   "cell_type": "markdown",
   "metadata": {
    "slideshow": {
     "slide_type": "subslide"
    }
   },
   "source": [
    "$$\n",
    "\\begin{eqnarray}\n",
    "{\\rm F_{1M}} &=& \\frac{2 \\times {\\rm Precision_M} \\times {\\rm Recall_M}}{{\\rm Precision_M} + {\\rm Recall_M}}\\\\\n",
    "&=& 0.809257\\dots\n",
    "\\end{eqnarray}\n",
    "$$"
   ]
  },
  {
   "cell_type": "markdown",
   "metadata": {
    "slideshow": {
     "slide_type": "-"
    }
   },
   "source": [
    "+ 平均適合率 と 平均再現率 とで計算する F-値。"
   ]
  },
  {
   "cell_type": "markdown",
   "metadata": {
    "slideshow": {
     "slide_type": "notes"
    }
   },
   "source": [
    "※ 他にも指標はあるけれど、取り敢えずこのあたりを押さえておけば。"
   ]
  },
  {
   "cell_type": "markdown",
   "metadata": {
    "slideshow": {
     "slide_type": "skip"
    }
   },
   "source": [
    "# 検出の評価指標"
   ]
  },
  {
   "cell_type": "markdown",
   "metadata": {
    "slideshow": {
     "slide_type": "slide"
    }
   },
   "source": [
    "# シチュエーションその3"
   ]
  },
  {
   "cell_type": "markdown",
   "metadata": {
    "slideshow": {
     "slide_type": "fragment"
    }
   },
   "source": [
    "+ サバンナに迷い込んだ。ライオンが隠れている。\n",
    "+ ライオンはいっぱいいるが、全部で何頭いるかは分からない。\n",
    "+ ライオンを見つけ出したい（見つけたライオンを避けて通り過ぎたい）。"
   ]
  },
  {
   "cell_type": "markdown",
   "metadata": {
    "slideshow": {
     "slide_type": "notes"
    }
   },
   "source": [
    "※最後は「見付けたライオンを撃ち殺して進みたい」でもOK（ちょと物騒になるけれど）。"
   ]
  },
  {
   "cell_type": "markdown",
   "metadata": {
    "slideshow": {
     "slide_type": "slide"
    }
   },
   "source": [
    "## 検出結果（≒混同行列）"
   ]
  },
  {
   "cell_type": "markdown",
   "metadata": {
    "slideshow": {
     "slide_type": "fragment"
    }
   },
   "source": [
    "<table>\n",
    "<tr>\n",
    "<th style=\"text-align:center;background:#eee\">&nbsp;</th><th style=\"text-align:center;background:#eee\">ライオン</th><th style=\"text-align:center;background:#eee\">ライオンじゃない</th>\n",
    "</tr>\n",
    "<tr>\n",
    "<th style=\"text-align:center;background:#eee\">たぶんライオン</th><td style=\"text-align:center\">7</td><td style=\"text-align:center\">3</td>\n",
    "</tr>\n",
    "<tr>\n",
    "<th style=\"text-align:center;background:#eee\">(未検出)</th><td style=\"text-align:center\">9</td><td style=\"text-align:center\">-</td>\n",
    "</tr>\n",
    "</table>"
   ]
  },
  {
   "cell_type": "markdown",
   "metadata": {
    "slideshow": {
     "slide_type": "notes"
    }
   },
   "source": [
    "※見付けた「たぶんライオン」は10匹だった。  \n",
    "※でも実際にはライオンは16匹いた。  \n",
    "※しかもそのうち見付けたライオンは7匹しかいなかった。\n"
   ]
  },
  {
   "cell_type": "markdown",
   "metadata": {
    "slideshow": {
     "slide_type": "slide"
    }
   },
   "source": [
    "## TP, FP, FN ~~, TN~~"
   ]
  },
  {
   "cell_type": "markdown",
   "metadata": {
    "slideshow": {
     "slide_type": "fragment"
    }
   },
   "source": [
    "<table>\n",
    "<tr>\n",
    "<th style=\"text-align:center;background:#eee\">&nbsp;</th><th style=\"text-align:center;background:#dde\">ライオン</th><th style=\"text-align:center;background:#edd\">ライオンじゃない</th>\n",
    "</tr>\n",
    "<tr>\n",
    "<th style=\"text-align:center;background:#cce\">たぶんライオン</th><td style=\"text-align:center;background:#bbe\">7</td><td style=\"text-align:center;background:#cbd\">3</td>\n",
    "</tr>\n",
    "<tr>\n",
    "<th style=\"text-align:center;background:#ecc\">(未検出)</th><td style=\"text-align:center;background:#dbc\">9</td><td style=\"text-align:center\">-</td>\n",
    "</tr>\n",
    "</table>"
   ]
  },
  {
   "cell_type": "markdown",
   "metadata": {
    "slideshow": {
     "slide_type": "-"
    }
   },
   "source": [
    "$$\n",
    "\\begin{eqnarray}\n",
    "{\\rm TP} &=& 7\\\\\n",
    "{\\rm FP} &=& 3\\\\\n",
    "{\\rm FN} &=& 9\n",
    "\\end{eqnarray}\n",
    "$$"
   ]
  },
  {
   "cell_type": "markdown",
   "metadata": {
    "slideshow": {
     "slide_type": "notes"
    }
   },
   "source": [
    "※ TN（＝「ライオンじゃない」を「検出しなかった」数）はカウントアップできないことに注意！（ターゲットが不定なので）"
   ]
  },
  {
   "cell_type": "markdown",
   "metadata": {
    "slideshow": {
     "slide_type": "slide"
    }
   },
   "source": [
    "## 適合率、再現率、F-値"
   ]
  },
  {
   "cell_type": "markdown",
   "metadata": {
    "slideshow": {
     "slide_type": "fragment"
    }
   },
   "source": [
    "$$\n",
    "\\begin{eqnarray}\n",
    "{\\rm Precision} &=& \\frac{\\rm TP}{{\\rm TP} + {\\rm FP}} &=& 0.7\\\\\n",
    "{\\rm Recall} &=& \\frac{\\rm TP}{{\\rm TP} + {\\rm FN}} &=& 0.4375\\\\\n",
    "{\\rm F}_1 &=& \\frac{2{\\rm TP}}{2{\\rm TP} + {\\rm FP} + {\\rm FN}} &=& 0.538461\\dots\\\\\n",
    "\\end{eqnarray}\n",
    "$$"
   ]
  },
  {
   "cell_type": "markdown",
   "metadata": {
    "slideshow": {
     "slide_type": "subslide"
    }
   },
   "source": [
    "### Point"
   ]
  },
  {
   "cell_type": "markdown",
   "metadata": {
    "slideshow": {
     "slide_type": "-"
    }
   },
   "source": [
    "+ TN が算出できないので、正解率（Accuracy）は計算できない。\n",
    "+ でも（TNが計算に関係しない）適合率・再現率・F-値 は計算できる（これらだけで十分！）"
   ]
  },
  {
   "cell_type": "markdown",
   "metadata": {
    "slideshow": {
     "slide_type": "skip"
    }
   },
   "source": [
    "# 多クラス検出の評価指標"
   ]
  },
  {
   "cell_type": "markdown",
   "metadata": {
    "slideshow": {
     "slide_type": "slide"
    }
   },
   "source": [
    "# シチュエーションその4"
   ]
  },
  {
   "cell_type": "markdown",
   "metadata": {
    "slideshow": {
     "slide_type": "fragment"
    }
   },
   "source": [
    "というか、**シチュエーションその3＋α**"
   ]
  },
  {
   "cell_type": "markdown",
   "metadata": {
    "slideshow": {
     "slide_type": "fragment"
    }
   },
   "source": [
    "+ サバンナの湿地帯に迷い込んだ。ライオンとワニが隠れている。\n",
    "+ ライオンもワニもいっぱいいるが、全部で何頭/何匹いるかは分からない。\n",
    "+ ライオンもワニも見つけ出したい（見つけたライオンやワニを避けて通り過ぎたい）。"
   ]
  },
  {
   "cell_type": "markdown",
   "metadata": {
    "slideshow": {
     "slide_type": "subslide"
    }
   },
   "source": [
    "## もうお分かりですね？"
   ]
  },
  {
   "cell_type": "markdown",
   "metadata": {
    "slideshow": {
     "slide_type": "notes"
    }
   },
   "source": [
    "※そう。「多クラス分類」の指標（の計算方法）を「検出」に応用すれば良い。それだけ。  \n",
    "※もちろん「検出」なので TN は計算できません。つまり **平均適合率**、**平均再現率**、**平均F-値**だけ、ということ。"
   ]
  },
  {
   "cell_type": "markdown",
   "metadata": {
    "slideshow": {
     "slide_type": "slide"
    }
   },
   "source": [
    "## 参考"
   ]
  },
  {
   "cell_type": "markdown",
   "metadata": {
    "slideshow": {
     "slide_type": "-"
    }
   },
   "source": [
    "+ [A systematic analysis of performance measures for classification tasks](http://atour.iro.umontreal.ca/rali/sites/default/files/publis/SokolovaLapalme-JIPM09.pdf) (PDF)"
   ]
  },
  {
   "cell_type": "markdown",
   "metadata": {
    "slideshow": {
     "slide_type": "slide"
    }
   },
   "source": [
    "## おしまい"
   ]
  },
  {
   "cell_type": "markdown",
   "metadata": {},
   "source": [
    "ご清聴ありがとうございました。"
   ]
  },
  {
   "cell_type": "code",
   "execution_count": 1,
   "metadata": {
    "collapsed": false,
    "slideshow": {
     "slide_type": "notes"
    }
   },
   "outputs": [
    {
     "data": {
      "text/html": [
       "<style>\n",
       ".reveal>.state-background,.reveal>.backgrounds>.slide-background{background-color:#ebfeff}\n",
       ".reveal .rendered_html pre,.reveal .rendered_html code{background-color:#eee}\n",
       ".reveal .rendered_html table, .reveal .rendered_html blockquote{background-color:#f8ffff}\n",
       ".reveal .rendered_html h1,.reveal .rendered_html h2,.reveal .rendered_html h3,.reveal .rendered_html h4,.reveal .rendered_html strong{color:#0f7c80}\n",
       "</style>"
      ],
      "text/plain": [
       "<IPython.core.display.HTML object>"
      ]
     },
     "execution_count": 1,
     "metadata": {},
     "output_type": "execute_result"
    }
   ],
   "source": [
    "from IPython.core.display import HTML\n",
    "HTML(r\"\"\"<style>\n",
    ".reveal>.state-background,.reveal>.backgrounds>.slide-background{background-color:#ebfeff}\n",
    ".reveal .rendered_html pre,.reveal .rendered_html code{background-color:#eee}\n",
    ".reveal .rendered_html table, .reveal .rendered_html blockquote{background-color:#f8ffff}\n",
    ".reveal .rendered_html h1,.reveal .rendered_html h2,.reveal .rendered_html h3,.reveal .rendered_html h4,.reveal .rendered_html strong{color:#0f7c80}\n",
    "</style>\"\"\")"
   ]
  }
 ],
 "metadata": {
  "celltoolbar": "Slideshow",
  "kernelspec": {
   "display_name": "Python 2",
   "language": "python",
   "name": "python2"
  },
  "language_info": {
   "codemirror_mode": {
    "name": "ipython",
    "version": 2
   },
   "file_extension": ".py",
   "mimetype": "text/x-python",
   "name": "python",
   "nbconvert_exporter": "python",
   "pygments_lexer": "ipython2",
   "version": "2.7.9"
  }
 },
 "nbformat": 4,
 "nbformat_minor": 0
}
